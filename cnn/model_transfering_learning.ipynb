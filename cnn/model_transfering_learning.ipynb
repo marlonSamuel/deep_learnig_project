{
 "cells": [
  {
   "cell_type": "code",
   "execution_count": 2,
   "metadata": {},
   "outputs": [],
   "source": [
    "#IMPORTAR LIBRERIAS NECESARIAS\n",
    "#================================================================================================#\n",
    "\n",
    "import sys\n",
    "import os\n",
    "import pandas as pd\n",
    "import numpy as np\n",
    "import matplotlib.pyplot as plt\n",
    "from sklearn.model_selection import train_test_split\n",
    "import tensorflow as tf\n",
    "from tensorflow.python.keras.preprocessing.image import ImageDataGenerator\n",
    "from tensorflow.python.keras import optimizers\n",
    "from tensorflow.python.keras.models import Sequential\n",
    "from tensorflow.python.keras.layers import Dropout, Flatten, Dense, Activation\n",
    "from tensorflow.python.keras.layers import  Convolution2D, MaxPooling2D,Input\n",
    "from tensorflow.python.keras import backend as K\n",
    "from tensorflow.python.keras import applications\n",
    "from tensorflow.keras.models import Model\n",
    "from tensorflow.keras.optimizers import Adam\n",
    "from tensorflow.keras.preprocessing.image import ImageDataGenerator\n",
    "from tensorflow.keras.callbacks import ModelCheckpoint,CSVLogger\n",
    "from tensorflow.keras.models import load_model"
   ]
  },
  {
   "cell_type": "code",
   "execution_count": 4,
   "metadata": {},
   "outputs": [],
   "source": [
    "#DESCARGANDO MODELO ENTRENADO VGG16\n",
    "#======================================================================#\n",
    "vgg=applications.vgg16.VGG16()"
   ]
  },
  {
   "cell_type": "code",
   "execution_count": 5,
   "metadata": {},
   "outputs": [
    {
     "name": "stdout",
     "output_type": "stream",
     "text": [
      "Model: \"vgg16\"\n",
      "_________________________________________________________________\n",
      "Layer (type)                 Output Shape              Param #   \n",
      "=================================================================\n",
      "input_1 (InputLayer)         [(None, 224, 224, 3)]     0         \n",
      "_________________________________________________________________\n",
      "block1_conv1 (Conv2D)        (None, 224, 224, 64)      1792      \n",
      "_________________________________________________________________\n",
      "block1_conv2 (Conv2D)        (None, 224, 224, 64)      36928     \n",
      "_________________________________________________________________\n",
      "block1_pool (MaxPooling2D)   (None, 112, 112, 64)      0         \n",
      "_________________________________________________________________\n",
      "block2_conv1 (Conv2D)        (None, 112, 112, 128)     73856     \n",
      "_________________________________________________________________\n",
      "block2_conv2 (Conv2D)        (None, 112, 112, 128)     147584    \n",
      "_________________________________________________________________\n",
      "block2_pool (MaxPooling2D)   (None, 56, 56, 128)       0         \n",
      "_________________________________________________________________\n",
      "block3_conv1 (Conv2D)        (None, 56, 56, 256)       295168    \n",
      "_________________________________________________________________\n",
      "block3_conv2 (Conv2D)        (None, 56, 56, 256)       590080    \n",
      "_________________________________________________________________\n",
      "block3_conv3 (Conv2D)        (None, 56, 56, 256)       590080    \n",
      "_________________________________________________________________\n",
      "block3_pool (MaxPooling2D)   (None, 28, 28, 256)       0         \n",
      "_________________________________________________________________\n",
      "block4_conv1 (Conv2D)        (None, 28, 28, 512)       1180160   \n",
      "_________________________________________________________________\n",
      "block4_conv2 (Conv2D)        (None, 28, 28, 512)       2359808   \n",
      "_________________________________________________________________\n",
      "block4_conv3 (Conv2D)        (None, 28, 28, 512)       2359808   \n",
      "_________________________________________________________________\n",
      "block4_pool (MaxPooling2D)   (None, 14, 14, 512)       0         \n",
      "_________________________________________________________________\n",
      "block5_conv1 (Conv2D)        (None, 14, 14, 512)       2359808   \n",
      "_________________________________________________________________\n",
      "block5_conv2 (Conv2D)        (None, 14, 14, 512)       2359808   \n",
      "_________________________________________________________________\n",
      "block5_conv3 (Conv2D)        (None, 14, 14, 512)       2359808   \n",
      "_________________________________________________________________\n",
      "block5_pool (MaxPooling2D)   (None, 7, 7, 512)         0         \n",
      "_________________________________________________________________\n",
      "flatten (Flatten)            (None, 25088)             0         \n",
      "_________________________________________________________________\n",
      "fc1 (Dense)                  (None, 4096)              102764544 \n",
      "_________________________________________________________________\n",
      "fc2 (Dense)                  (None, 4096)              16781312  \n",
      "_________________________________________________________________\n",
      "predictions (Dense)          (None, 1000)              4097000   \n",
      "=================================================================\n",
      "Total params: 138,357,544\n",
      "Trainable params: 138,357,544\n",
      "Non-trainable params: 0\n",
      "_________________________________________________________________\n"
     ]
    }
   ],
   "source": [
    "vgg.summary()"
   ]
  },
  {
   "cell_type": "code",
   "execution_count": 8,
   "metadata": {},
   "outputs": [],
   "source": [
    "#CARGANDO DATASET\n",
    "#=================================================================#\n",
    "data = pd.read_csv('data_images.csv')\n",
    "X_train, X_test = train_test_split(data,test_size=0.15,random_state=0)"
   ]
  },
  {
   "cell_type": "code",
   "execution_count": 15,
   "metadata": {},
   "outputs": [],
   "source": [
    "#CONSTRUYENDO MODELO\n",
    "#======================================================================================#\n",
    "def modelo():\n",
    "    base_model = applications.vgg16.VGG16(include_top=False, input_shape=(150,150,3))\n",
    "    \n",
    "    x = base_model.output\n",
    "    \n",
    "    x = Flatten()(x)\n",
    "    \n",
    "    x = Dense(512, activation=\"relu\")(x)\n",
    "    \n",
    "    \n",
    "    gender_branch = Dense(2, activation='softmax', name='gender_output')(x)\n",
    "    race_branch = Dense(5, activation='softmax', name='race_output')(x)\n",
    "    age_branch = Dense(1, activation='linear', name='age_output')(x)\n",
    "    \n",
    "    model = Model(inputs = base_model.input,\n",
    "                  outputs = [gender_branch,race_branch, age_branch])\n",
    "    \n",
    "    #base_model.layers.pop()\n",
    "    for layer in base_model.layers:\n",
    "        layer.trainable = False\n",
    "\n",
    "    return model"
   ]
  },
  {
   "cell_type": "code",
   "execution_count": 16,
   "metadata": {},
   "outputs": [],
   "source": [
    "K.clear_session()"
   ]
  },
  {
   "cell_type": "code",
   "execution_count": 17,
   "metadata": {},
   "outputs": [],
   "source": [
    "model=modelo()"
   ]
  },
  {
   "cell_type": "code",
   "execution_count": 18,
   "metadata": {
    "scrolled": true
   },
   "outputs": [
    {
     "name": "stdout",
     "output_type": "stream",
     "text": [
      "Model: \"model\"\n",
      "__________________________________________________________________________________________________\n",
      "Layer (type)                    Output Shape         Param #     Connected to                     \n",
      "==================================================================================================\n",
      "input_1 (InputLayer)            [(None, 150, 150, 3) 0                                            \n",
      "__________________________________________________________________________________________________\n",
      "block1_conv1 (Conv2D)           (None, 150, 150, 64) 1792        input_1[0][0]                    \n",
      "__________________________________________________________________________________________________\n",
      "block1_conv2 (Conv2D)           (None, 150, 150, 64) 36928       block1_conv1[0][0]               \n",
      "__________________________________________________________________________________________________\n",
      "block1_pool (MaxPooling2D)      (None, 75, 75, 64)   0           block1_conv2[0][0]               \n",
      "__________________________________________________________________________________________________\n",
      "block2_conv1 (Conv2D)           (None, 75, 75, 128)  73856       block1_pool[0][0]                \n",
      "__________________________________________________________________________________________________\n",
      "block2_conv2 (Conv2D)           (None, 75, 75, 128)  147584      block2_conv1[0][0]               \n",
      "__________________________________________________________________________________________________\n",
      "block2_pool (MaxPooling2D)      (None, 37, 37, 128)  0           block2_conv2[0][0]               \n",
      "__________________________________________________________________________________________________\n",
      "block3_conv1 (Conv2D)           (None, 37, 37, 256)  295168      block2_pool[0][0]                \n",
      "__________________________________________________________________________________________________\n",
      "block3_conv2 (Conv2D)           (None, 37, 37, 256)  590080      block3_conv1[0][0]               \n",
      "__________________________________________________________________________________________________\n",
      "block3_conv3 (Conv2D)           (None, 37, 37, 256)  590080      block3_conv2[0][0]               \n",
      "__________________________________________________________________________________________________\n",
      "block3_pool (MaxPooling2D)      (None, 18, 18, 256)  0           block3_conv3[0][0]               \n",
      "__________________________________________________________________________________________________\n",
      "block4_conv1 (Conv2D)           (None, 18, 18, 512)  1180160     block3_pool[0][0]                \n",
      "__________________________________________________________________________________________________\n",
      "block4_conv2 (Conv2D)           (None, 18, 18, 512)  2359808     block4_conv1[0][0]               \n",
      "__________________________________________________________________________________________________\n",
      "block4_conv3 (Conv2D)           (None, 18, 18, 512)  2359808     block4_conv2[0][0]               \n",
      "__________________________________________________________________________________________________\n",
      "block4_pool (MaxPooling2D)      (None, 9, 9, 512)    0           block4_conv3[0][0]               \n",
      "__________________________________________________________________________________________________\n",
      "block5_conv1 (Conv2D)           (None, 9, 9, 512)    2359808     block4_pool[0][0]                \n",
      "__________________________________________________________________________________________________\n",
      "block5_conv2 (Conv2D)           (None, 9, 9, 512)    2359808     block5_conv1[0][0]               \n",
      "__________________________________________________________________________________________________\n",
      "block5_conv3 (Conv2D)           (None, 9, 9, 512)    2359808     block5_conv2[0][0]               \n",
      "__________________________________________________________________________________________________\n",
      "block5_pool (MaxPooling2D)      (None, 4, 4, 512)    0           block5_conv3[0][0]               \n",
      "__________________________________________________________________________________________________\n",
      "flatten (Flatten)               (None, 8192)         0           block5_pool[0][0]                \n",
      "__________________________________________________________________________________________________\n",
      "dense (Dense)                   (None, 512)          4194816     flatten[0][0]                    \n",
      "__________________________________________________________________________________________________\n",
      "gender_output (Dense)           (None, 2)            1026        dense[0][0]                      \n",
      "__________________________________________________________________________________________________\n",
      "race_output (Dense)             (None, 5)            2565        dense[0][0]                      \n",
      "__________________________________________________________________________________________________\n",
      "age_output (Dense)              (None, 1)            513         dense[0][0]                      \n",
      "==================================================================================================\n",
      "Total params: 18,913,608\n",
      "Trainable params: 4,198,920\n",
      "Non-trainable params: 14,714,688\n",
      "__________________________________________________________________________________________________\n"
     ]
    }
   ],
   "source": [
    "model.summary()"
   ]
  },
  {
   "cell_type": "code",
   "execution_count": 19,
   "metadata": {},
   "outputs": [],
   "source": [
    "#from tensorflow.keras import optimizers\n",
    "model.compile(optimizer = Adam(lr = 0.001),\n",
    "             loss = {'gender_output': \"sparse_categorical_crossentropy\", 'race_output': \"sparse_categorical_crossentropy\", 'age_output': \"mse\"},\n",
    "             loss_weights={'gender_output': 1., 'race_output': 1., 'age_output': .001},\n",
    "             metrics={'gender_output': 'accuracy', 'race_output': 'accuracy', 'age_output':'mse'})"
   ]
  },
  {
   "cell_type": "code",
   "execution_count": 9,
   "metadata": {},
   "outputs": [
    {
     "name": "stdout",
     "output_type": "stream",
     "text": [
      "Found 17129 validated image filenames.\n",
      "Found 3022 validated image filenames.\n",
      "Found 3557 validated image filenames.\n"
     ]
    }
   ],
   "source": [
    "#PROCESANDO IMAGENES\n",
    "#==================================================================#\n",
    "img_height = 150\n",
    "img_width = 150\n",
    "batch_size = 32\n",
    "path = '../UTKFace/'\n",
    "\n",
    "columns=[\"gender\", \"race\", \"age\"]\n",
    "\n",
    "datagen = ImageDataGenerator(rescale=1./255.,\n",
    "                                 shear_range=0.2,\n",
    "                                 zoom_range=0.2,\n",
    "                                 horizontal_flip=True,\n",
    "                                 validation_split=0.15)\n",
    "\n",
    "train_generator=datagen.flow_from_dataframe(\n",
    "    dataframe=X_train,\n",
    "    directory=path,\n",
    "    x_col=\"path\",\n",
    "    y_col=columns,\n",
    "    subset=\"training\",\n",
    "    batch_size=batch_size,\n",
    "    #seed=42,\n",
    "    shuffle=True,\n",
    "    class_mode=\"raw\",\n",
    "    color_mode=\"rgb\",\n",
    "    target_size=(img_height,img_width)\n",
    ")\n",
    "\n",
    "\n",
    "valid_generator=datagen.flow_from_dataframe(\n",
    "    dataframe=X_train,\n",
    "    directory=path,\n",
    "    x_col=\"path\",\n",
    "    y_col=columns,\n",
    "    subset=\"validation\",\n",
    "    batch_size=batch_size,\n",
    "    #seed=42,\n",
    "    shuffle=True,\n",
    "    class_mode=\"raw\",\n",
    "    color_mode=\"rgb\",\n",
    "    target_size=(img_height,img_width)\n",
    ")\n",
    "\n",
    "test_datagen=ImageDataGenerator(rescale=1./255.)\n",
    "\n",
    "test_generator=test_datagen.flow_from_dataframe(\n",
    "    dataframe=X_test,\n",
    "    directory='../UTKFace/',\n",
    "    x_col=\"path\",\n",
    "    y_col=columns,\n",
    "    batch_size=batch_size,\n",
    "    class_mode=\"raw\",\n",
    "    color_mode=\"rgb\",\n",
    "    target_size=(img_height,img_width)\n",
    ")"
   ]
  },
  {
   "cell_type": "code",
   "execution_count": 21,
   "metadata": {},
   "outputs": [],
   "source": [
    "#GUARDANDO MODELO\n",
    "#===================================================================================#\n",
    "filepath = 'checkpoints\\experimento4\\cp-tl{epoch:02d}.hdf5'\n",
    "checkpoint = ModelCheckpoint(filepath, monitor='loss', verbose=1,\n",
    "    save_best_only=False, mode='auto', save_freq='epoch')"
   ]
  },
  {
   "cell_type": "code",
   "execution_count": 22,
   "metadata": {},
   "outputs": [],
   "source": [
    "#OBTENIENDO ETIQUETAS\n",
    "#===========================================================================#\n",
    "def generator_wrapper(generator):\n",
    "    for batch_x,batch_y in generator:\n",
    "        yield (batch_x,[batch_y[:,i] for i in range(3)])"
   ]
  },
  {
   "cell_type": "code",
   "execution_count": 23,
   "metadata": {},
   "outputs": [
    {
     "name": "stdout",
     "output_type": "stream",
     "text": [
      "Epoch 1/10\n",
      "535/535 [==============================] - ETA: 0s - loss: 1.7674 - gender_output_loss: 0.4317 - race_output_loss: 1.0581 - age_output_loss: 277.4805 - gender_output_accuracy: 0.8043 - race_output_accuracy: 0.6150 - age_output_mse: 277.4805\n",
      "Epoch 00001: saving model to checkpoints\\experimento4\\cp-tl01.hdf5\n",
      "535/535 [==============================] - 2457s 5s/step - loss: 1.7674 - gender_output_loss: 0.4317 - race_output_loss: 1.0581 - age_output_loss: 277.4805 - gender_output_accuracy: 0.8043 - race_output_accuracy: 0.6150 - age_output_mse: 277.4805 - val_loss: 1.4393 - val_gender_output_loss: 0.3337 - val_race_output_loss: 0.9163 - val_age_output_loss: 189.3601 - val_gender_output_accuracy: 0.8531 - val_race_output_accuracy: 0.6592 - val_age_output_mse: 189.3601\n",
      "Epoch 2/10\n",
      "535/535 [==============================] - ETA: 0s - loss: 1.3692 - gender_output_loss: 0.3398 - race_output_loss: 0.8616 - age_output_loss: 167.7267 - gender_output_accuracy: 0.8475 - race_output_accuracy: 0.6840 - age_output_mse: 167.7267\n",
      "Epoch 00002: saving model to checkpoints\\experimento4\\cp-tl02.hdf5\n",
      "535/535 [==============================] - 2456s 5s/step - loss: 1.3692 - gender_output_loss: 0.3398 - race_output_loss: 0.8616 - age_output_loss: 167.7267 - gender_output_accuracy: 0.8475 - race_output_accuracy: 0.6840 - age_output_mse: 167.7267 - val_loss: 1.4182 - val_gender_output_loss: 0.3047 - val_race_output_loss: 0.9547 - val_age_output_loss: 158.8208 - val_gender_output_accuracy: 0.8644 - val_race_output_accuracy: 0.6533 - val_age_output_mse: 158.8208\n",
      "Epoch 3/10\n",
      "535/535 [==============================] - ETA: 0s - loss: 1.2718 - gender_output_loss: 0.3264 - race_output_loss: 0.8001 - age_output_loss: 145.4119 - gender_output_accuracy: 0.8554 - race_output_accuracy: 0.7105 - age_output_mse: 145.4119\n",
      "Epoch 00003: saving model to checkpoints\\experimento4\\cp-tl03.hdf5\n",
      "535/535 [==============================] - 2434s 5s/step - loss: 1.2718 - gender_output_loss: 0.3264 - race_output_loss: 0.8001 - age_output_loss: 145.4119 - gender_output_accuracy: 0.8554 - race_output_accuracy: 0.7105 - age_output_mse: 145.4119 - val_loss: 1.3037 - val_gender_output_loss: 0.3183 - val_race_output_loss: 0.8405 - val_age_output_loss: 144.8561 - val_gender_output_accuracy: 0.8570 - val_race_output_accuracy: 0.6908 - val_age_output_mse: 144.8561\n",
      "Epoch 4/10\n",
      "535/535 [==============================] - ETA: 0s - loss: 1.2136 - gender_output_loss: 0.3081 - race_output_loss: 0.7689 - age_output_loss: 136.6244 - gender_output_accuracy: 0.8661 - race_output_accuracy: 0.7215 - age_output_mse: 136.6244\n",
      "Epoch 00004: saving model to checkpoints\\experimento4\\cp-tl04.hdf5\n",
      "535/535 [==============================] - 2438s 5s/step - loss: 1.2136 - gender_output_loss: 0.3081 - race_output_loss: 0.7689 - age_output_loss: 136.6244 - gender_output_accuracy: 0.8661 - race_output_accuracy: 0.7215 - age_output_mse: 136.6244 - val_loss: 1.2608 - val_gender_output_loss: 0.3070 - val_race_output_loss: 0.8203 - val_age_output_loss: 133.4008 - val_gender_output_accuracy: 0.8630 - val_race_output_accuracy: 0.6998 - val_age_output_mse: 133.4008\n",
      "Epoch 5/10\n",
      "535/535 [==============================] - ETA: 0s - loss: 1.1671 - gender_output_loss: 0.2947 - race_output_loss: 0.7447 - age_output_loss: 127.7576 - gender_output_accuracy: 0.8703 - race_output_accuracy: 0.7314 - age_output_mse: 127.7576\n",
      "Epoch 00005: saving model to checkpoints\\experimento4\\cp-tl05.hdf5\n",
      "535/535 [==============================] - 2436s 5s/step - loss: 1.1671 - gender_output_loss: 0.2947 - race_output_loss: 0.7447 - age_output_loss: 127.7576 - gender_output_accuracy: 0.8703 - race_output_accuracy: 0.7314 - age_output_mse: 127.7576 - val_loss: 1.2320 - val_gender_output_loss: 0.2812 - val_race_output_loss: 0.8196 - val_age_output_loss: 131.1860 - val_gender_output_accuracy: 0.8763 - val_race_output_accuracy: 0.7005 - val_age_output_mse: 131.1860\n",
      "Epoch 6/10\n",
      "535/535 [==============================] - ETA: 0s - loss: 1.1337 - gender_output_loss: 0.2892 - race_output_loss: 0.7193 - age_output_loss: 125.1619 - gender_output_accuracy: 0.8746 - race_output_accuracy: 0.7407 - age_output_mse: 125.1619\n",
      "Epoch 00006: saving model to checkpoints\\experimento4\\cp-tl06.hdf5\n",
      "535/535 [==============================] - 2428s 5s/step - loss: 1.1337 - gender_output_loss: 0.2892 - race_output_loss: 0.7193 - age_output_loss: 125.1619 - gender_output_accuracy: 0.8746 - race_output_accuracy: 0.7407 - age_output_mse: 125.1619 - val_loss: 1.2369 - val_gender_output_loss: 0.3147 - val_race_output_loss: 0.7939 - val_age_output_loss: 128.3678 - val_gender_output_accuracy: 0.8617 - val_race_output_accuracy: 0.7101 - val_age_output_mse: 128.3678\n",
      "Epoch 7/10\n",
      "535/535 [==============================] - ETA: 0s - loss: 1.0928 - gender_output_loss: 0.2774 - race_output_loss: 0.6956 - age_output_loss: 119.8218 - gender_output_accuracy: 0.8799 - race_output_accuracy: 0.7527 - age_output_mse: 119.8218\n",
      "Epoch 00007: saving model to checkpoints\\experimento4\\cp-tl07.hdf5\n",
      "535/535 [==============================] - 2431s 5s/step - loss: 1.0928 - gender_output_loss: 0.2774 - race_output_loss: 0.6956 - age_output_loss: 119.8218 - gender_output_accuracy: 0.8799 - race_output_accuracy: 0.7527 - age_output_mse: 119.8218 - val_loss: 1.2424 - val_gender_output_loss: 0.3177 - val_race_output_loss: 0.7992 - val_age_output_loss: 125.5346 - val_gender_output_accuracy: 0.8597 - val_race_output_accuracy: 0.7138 - val_age_output_mse: 125.5346\n",
      "Epoch 8/10\n",
      "535/535 [==============================] - ETA: 0s - loss: 1.0671 - gender_output_loss: 0.2713 - race_output_loss: 0.6783 - age_output_loss: 117.4464 - gender_output_accuracy: 0.8819 - race_output_accuracy: 0.7546 - age_output_mse: 117.4464\n",
      "Epoch 00008: saving model to checkpoints\\experimento4\\cp-tl08.hdf5\n",
      "535/535 [==============================] - 2450s 5s/step - loss: 1.0671 - gender_output_loss: 0.2713 - race_output_loss: 0.6783 - age_output_loss: 117.4464 - gender_output_accuracy: 0.8819 - race_output_accuracy: 0.7546 - age_output_mse: 117.4464 - val_loss: 1.2477 - val_gender_output_loss: 0.3257 - val_race_output_loss: 0.7975 - val_age_output_loss: 124.4456 - val_gender_output_accuracy: 0.8527 - val_race_output_accuracy: 0.7108 - val_age_output_mse: 124.4456\n",
      "Epoch 9/10\n",
      "535/535 [==============================] - ETA: 0s - loss: 1.0517 - gender_output_loss: 0.2701 - race_output_loss: 0.6678 - age_output_loss: 113.7552 - gender_output_accuracy: 0.8831 - race_output_accuracy: 0.7596 - age_output_mse: 113.7552\n",
      "Epoch 00009: saving model to checkpoints\\experimento4\\cp-tl09.hdf5\n",
      "535/535 [==============================] - 2464s 5s/step - loss: 1.0517 - gender_output_loss: 0.2701 - race_output_loss: 0.6678 - age_output_loss: 113.7552 - gender_output_accuracy: 0.8831 - race_output_accuracy: 0.7596 - age_output_mse: 113.7552 - val_loss: 1.2799 - val_gender_output_loss: 0.2757 - val_race_output_loss: 0.8823 - val_age_output_loss: 121.8556 - val_gender_output_accuracy: 0.8757 - val_race_output_accuracy: 0.6722 - val_age_output_mse: 121.8556\n",
      "Epoch 10/10\n",
      "535/535 [==============================] - ETA: 0s - loss: 1.0165 - gender_output_loss: 0.2623 - race_output_loss: 0.6411 - age_output_loss: 113.2102 - gender_output_accuracy: 0.8886 - race_output_accuracy: 0.7715 - age_output_mse: 113.2102\n",
      "Epoch 00010: saving model to checkpoints\\experimento4\\cp-tl10.hdf5\n",
      "535/535 [==============================] - 2503s 5s/step - loss: 1.0165 - gender_output_loss: 0.2623 - race_output_loss: 0.6411 - age_output_loss: 113.2102 - gender_output_accuracy: 0.8886 - race_output_accuracy: 0.7715 - age_output_mse: 113.2102 - val_loss: 1.1538 - val_gender_output_loss: 0.2682 - val_race_output_loss: 0.7653 - val_age_output_loss: 120.3099 - val_gender_output_accuracy: 0.8820 - val_race_output_accuracy: 0.7168 - val_age_output_mse: 120.3099\n"
     ]
    }
   ],
   "source": [
    "#ENTRENAR MODELO POR 10 ITERACIONES\n",
    "#=======================================================================================#\n",
    "nb_epochs = 10\n",
    "csv_logger = CSVLogger(\"checkpoints/experimento4/model_history_log.csv\", append=True)\n",
    "\n",
    "STEP_SIZE_TRAIN=train_generator.n//batch_size\n",
    "STEP_SIZE_VALID=valid_generator.n//batch_size\n",
    "STEP_SIZE_TEST=test_generator.n//batch_size\n",
    "\n",
    "history = model.fit(generator_wrapper(train_generator),\n",
    "                    steps_per_epoch=STEP_SIZE_TRAIN,\n",
    "                    validation_data=generator_wrapper(valid_generator),\n",
    "                    validation_steps=STEP_SIZE_VALID,\n",
    "                    epochs=nb_epochs,\n",
    "                    verbose=1,\n",
    "                    callbacks=[checkpoint, csv_logger])"
   ]
  },
  {
   "cell_type": "markdown",
   "metadata": {},
   "source": [
    "### Resultados\n",
    "\n",
    "Se observa resultados similares con el modelo sin tranfering learning."
   ]
  }
 ],
 "metadata": {
  "kernelspec": {
   "display_name": "Python 3",
   "language": "python",
   "name": "python3"
  },
  "language_info": {
   "codemirror_mode": {
    "name": "ipython",
    "version": 3
   },
   "file_extension": ".py",
   "mimetype": "text/x-python",
   "name": "python",
   "nbconvert_exporter": "python",
   "pygments_lexer": "ipython3",
   "version": "3.7.3"
  }
 },
 "nbformat": 4,
 "nbformat_minor": 2
}
