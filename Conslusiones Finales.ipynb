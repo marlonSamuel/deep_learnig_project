{
 "cells": [
  {
   "cell_type": "markdown",
   "metadata": {},
   "source": [
    "## CONCLUSIONES\n",
    "\n",
    "Experiencia entrenando diferentes tipos de modelos, enfrentandose a distintas dificultades que puedan surgir para ganar experiencia real sobre el deep learning.\n",
    "\n",
    "Al llevar la teoría a la practica queda mas claro todo lo visto en clase"
   ]
  },
  {
   "cell_type": "markdown",
   "metadata": {},
   "source": [
    "## DIFICULTADES\n",
    "\n",
    "La principal dificultad que se me presento en la realización de todos los proyectos fue la falta de recursos computacionales, y no pude experimentar todo lo necesario para mejorar los modelos. Tampoco me fue posible trabajar con dataset con grandes cantidades de datos, por lo que descarté ideas mas interesantes para realizar, ya que con poca información los modelos entrenados no se conseguían los resultados deseados.\n",
    "\n",
    "RED NEURONAL CONVOLUCIONAL: Los tiempos que me tomaba experimentar y entrenar modelos para buscar los parametros que mejor se ajustaban era de 3 a 5 horas por cada uno, el modelo de transfering learning con GNN16 se llevo una noche completa para el entrenamiento. Ademas de investigación sobre el tema ya que era de los temas que tenía menos claro.\n",
    "\n",
    "RED NEURONAL RECURRENTE: Fue el que mas inconvenientes me causo, mi idea principal erá entrenar un chatbot o bien un traductor de idiomas ya que me parecen mas interesantes, buscando dataset disponibles se encuentran muchos pero no logré realizarlo debido al falta de recursos.\n",
    "\n",
    "MLP: Fue el que menos inconvenientes causó, el entrenamiento no tomó mucho tiempo al rededor de 20 a 30 minutos por experimento (dependiendo del numero de iteraciones).\n",
    "\n"
   ]
  }
 ],
 "metadata": {
  "kernelspec": {
   "display_name": "Python 3",
   "language": "python",
   "name": "python3"
  },
  "language_info": {
   "codemirror_mode": {
    "name": "ipython",
    "version": 3
   },
   "file_extension": ".py",
   "mimetype": "text/x-python",
   "name": "python",
   "nbconvert_exporter": "python",
   "pygments_lexer": "ipython3",
   "version": "3.7.3"
  }
 },
 "nbformat": 4,
 "nbformat_minor": 2
}
