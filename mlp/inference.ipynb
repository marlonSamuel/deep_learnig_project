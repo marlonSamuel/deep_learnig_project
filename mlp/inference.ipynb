{
 "cells": [
  {
   "cell_type": "code",
   "execution_count": 30,
   "metadata": {},
   "outputs": [],
   "source": [
    "from keras.models import load_model\n",
    "import pandas as pd\n",
    "import numpy as np"
   ]
  },
  {
   "cell_type": "code",
   "execution_count": 2,
   "metadata": {},
   "outputs": [],
   "source": [
    "model = load_model('best_model.hdf5')"
   ]
  },
  {
   "cell_type": "code",
   "execution_count": 8,
   "metadata": {},
   "outputs": [],
   "source": [
    "df = pd.read_csv('data/ratings.csv')\n",
    "movies = pd.read_csv('data/movies.csv')"
   ]
  },
  {
   "cell_type": "code",
   "execution_count": 9,
   "metadata": {},
   "outputs": [],
   "source": [
    "user_ids = df[\"userId\"].unique().tolist()\n",
    "movie_ids = df[\"movieId\"].unique().tolist()\n",
    "\n",
    "user_encoded = {x: i for i, x in enumerate(user_ids)}\n",
    "user_decoded = {i: x for i, x in enumerate(user_ids)}\n",
    "\n",
    "movie_encoded = {x: i for i, x in enumerate(movie_ids)}\n",
    "movie_decoded = {i: x for i, x in enumerate(movie_ids)}"
   ]
  },
  {
   "cell_type": "code",
   "execution_count": 44,
   "metadata": {},
   "outputs": [],
   "source": [
    "def recomend(user_id,top_k=10):\n",
    "    user_watch = df[df.userId == user_id]\n",
    "    user_no_watch = movies[~movies[\"movieId\"].isin(user_watch.movieId.values)][\"movieId\"]\n",
    "    user_no_watch = list(set(user_no_watch).intersection(set(movie_encoded.keys())))\n",
    "    user_no_watch = [[movie_encoded.get(x)] for x in user_no_watch]\n",
    "    \n",
    "    user_encoder = user_encoded.get(user_id)\n",
    "    \n",
    "    user_movies = np.hstack(([[user_encoder]] * len(user_no_watch), user_no_watch))\n",
    "    \n",
    "    ratings = model.predict([user_movies[:,0],user_movies[:,1]]).flatten()\n",
    "    \n",
    "    top_ratings_indices = ratings.argsort()[-top_k:][::-1]\n",
    "    \n",
    "    recommended_movie_ids = [movie_decoded.get(user_no_watch[x][0]) for x in top_ratings_indices]\n",
    "\n",
    "    return user_watch,recommended_movie_ids"
   ]
  },
  {
   "cell_type": "code",
   "execution_count": 45,
   "metadata": {},
   "outputs": [],
   "source": [
    "def showRecomend(movies_watched,recommended_movie_ids,user_id):\n",
    "    print(\"Mostrando recomendaciones para usuario\",user_id)\n",
    "    print(\"====\" * 15)\n",
    "\n",
    "    print(\"\\nPeliculas con mas altos raitings de usuario\")\n",
    "    print(\"----\" * 15)\n",
    "    top_movies_user = (\n",
    "        movies_watched.sort_values(by=\"rating\", ascending=False)\n",
    "        .head(5)\n",
    "        .movieId.values\n",
    "    )\n",
    "    \n",
    "    movie_df_rows = movies[movies[\"movieId\"].isin(top_movies_user)]\n",
    "    for row in movie_df_rows.itertuples():\n",
    "        print(row.title, \":\", row.genres)\n",
    "        \n",
    "    \n",
    "    print(\"----\" * 15)\n",
    "    print(\"Top 10 peliculas recomendadas\")\n",
    "    print(\"----\" * 15)\n",
    "    recommended_movies = movies[movies[\"movieId\"].isin(recommended_movie_ids)]\n",
    "    for row in recommended_movies.itertuples():\n",
    "        print(row.title, \":\", row.genres)"
   ]
  },
  {
   "cell_type": "code",
   "execution_count": 52,
   "metadata": {},
   "outputs": [
    {
     "name": "stdout",
     "output_type": "stream",
     "text": [
      "Mostrando recomendaciones para usuario 76\n",
      "============================================================\n",
      "\n",
      "Peliculas con mas altos raitings de usuario\n",
      "------------------------------------------------------------\n",
      "Godfather, The (1972) : Crime|Drama\n",
      "Monty Python and the Holy Grail (1975) : Adventure|Comedy|Fantasy\n",
      "Goodfellas (1990) : Crime|Drama\n",
      "Saw (2004) : Horror|Mystery|Thriller\n",
      "Serenity (2005) : Action|Adventure|Sci-Fi\n",
      "------------------------------------------------------------\n",
      "Top 10 peliculas recomendadas\n",
      "------------------------------------------------------------\n",
      "Scout, The (1994) : Comedy|Drama\n",
      "Love and a .45 (1994) : Action|Comedy|Crime\n",
      "Flash Gordon Conquers the Universe (1940) : Action|Sci-Fi\n",
      "Wal-Mart: The High Cost of Low Price (2005) : Documentary\n",
      "Guardians of the Galaxy (2014) : Action|Adventure|Sci-Fi\n"
     ]
    }
   ],
   "source": [
    "user_id = df.userId.sample(1).iloc[0]\n",
    "\n",
    "\n",
    "user_id = 76\n",
    "\n",
    "user_watched,recommended_movies = recomend(user_id,5)\n",
    "showRecomend(user_watched,recommended_movies,user_id)"
   ]
  }
 ],
 "metadata": {
  "kernelspec": {
   "display_name": "Python 3",
   "language": "python",
   "name": "python3"
  },
  "language_info": {
   "codemirror_mode": {
    "name": "ipython",
    "version": 3
   },
   "file_extension": ".py",
   "mimetype": "text/x-python",
   "name": "python",
   "nbconvert_exporter": "python",
   "pygments_lexer": "ipython3",
   "version": "3.7.3"
  }
 },
 "nbformat": 4,
 "nbformat_minor": 2
}
