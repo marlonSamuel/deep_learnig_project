{
 "cells": [
  {
   "attachments": {},
   "cell_type": "markdown",
   "metadata": {},
   "source": [
    "## VGG\n",
    "\n",
    "\n",
    "VGG es un modelo de red neuronal convolucional propuesto por K. Simonyan y A. Zisserman de la Universidad de Oxford en el artículo \"Very Deep Convolutional Networks for Large-Scale Image Recognition\". El modelo alcanza un 92,7% de precisión de las 5 pruebas principales en ImageNet  , que es un conjunto de datos de más de 14 millones de imágenes que pertenecen a 1000 clases. En el artículo se mencioa que la red logró una precisión de prueba del 92,7% entre las 5 mejores en el conjunto de datos de ImageNet .\n",
    "\n",
    "#### Arquitectura de VGG\n",
    "Las dimensiones de entrada de la arquitectura se fijan al tamaño de la imagen (244×244). En un paso de preprocesamiento, el valor RGB medio se resta de cada píxel de una imagen.\n",
    "\n",
    "como se muestra en la siguiente figura:\n",
    "\n",
    "\n",
    "<img src=\"conv_arq.jpg\"></img>\n",
    "\n",
    "\n",
    "Después de que se completa el preprocesamiento, las imágenes se pasan a una pila de capas convolucionales con pequeños filtros de campo receptivo de tamaño (3 × 3). \n",
    "\n",
    "Configuración, entrenamiento y resultados de VGG\n",
    "La red VGG tiene cinco configuraciones denominadas A a E. La profundidad de la configuración aumenta de izquierda (A) a derecha (B), con más capas agregadas. A continuación se muestra una tabla que describe todas las posibles arquitecturas de red:\n",
    "\n",
    "<img src=\"conv_conf.jpg\"></img>\n",
    "\n",
    "Hay dos inconvenientes clave que vale la pena señalar si está trabajando con una red VGG. Primero, se necesita mucho tiempo para entrenar. En segundo lugar, los pesos de la arquitectura de red son bastante grandes. Debido a su profundidad y cantidad de nodos completamente conectados, el modelo VGG16 entrenado tiene más de 500 MB"
   ]
  },
  {
   "cell_type": "markdown",
   "metadata": {},
   "source": [
    "El modelo se utilizó por facilidad de implementación y buenos resultados. Unicamente utilize y experimente con las capas convolucionales debido al tiempo que se lleva de entrenamiento no experimente con todas las capas de la red, ya que los resultados deseados.\n",
    "\n",
    "Total de parametros luego de configurar y adaptar la red VGG16 al problema\n",
    "\n",
    "<img src=\"conv_imp.jpg\"></img>"
   ]
  }
 ],
 "metadata": {
  "kernelspec": {
   "display_name": "Python 3",
   "language": "python",
   "name": "python3"
  },
  "language_info": {
   "codemirror_mode": {
    "name": "ipython",
    "version": 3
   },
   "file_extension": ".py",
   "mimetype": "text/x-python",
   "name": "python",
   "nbconvert_exporter": "python",
   "pygments_lexer": "ipython3",
   "version": "3.7.3"
  }
 },
 "nbformat": 4,
 "nbformat_minor": 2
}
